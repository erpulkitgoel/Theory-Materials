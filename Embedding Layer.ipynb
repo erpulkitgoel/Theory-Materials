{
 "cells": [
  {
   "cell_type": "markdown",
   "metadata": {},
   "source": [
    "# Embedding Layer "
   ]
  },
  {
   "cell_type": "markdown",
   "metadata": {},
   "source": [
    "Let us say that you dataset consist of only two sentences:\n",
    "\n",
    "I love coffee.\n",
    "I like dogs.\n",
    "Vocab: {I, love, coffee, I, like, dogs}\n",
    "\n",
    "Integers assigned:\n",
    "\n",
    "I: 0, love: 1, coffee: 2, like: 3, dogs: 4\n",
    "\n",
    "Vector representations:\n",
    "\n",
    "I: [1,0,0,0,0]\n",
    "\n",
    "love: [0,1,0,0,0]\n",
    "\n",
    "coffee: [0,0,1,0,0]\n",
    "\n",
    "like: [0,0,0,1,0]\n",
    "\n",
    "dogs: [0,0,0,0,1]\n",
    "\n",
    "This type of word representation is called one-hot vector representation.\n",
    "\n",
    "But, as you can see similar words do not share any kind of information.\n",
    "\n",
    "For example, if you take euclidian distance between “coffee” and “love” and “like” and “love” you would get the same result.\n",
    "\n",
    "In order to have a representation where similar words have smaller euclidean distance than the ones which are not similar at all. Here, similarity is based upon context of the word i.e. what conditions or surroundings is the word used in.\n",
    "\n",
    "This representation is called word embedding.\n",
    "And they may look like:\n",
    "\n",
    "I: [0.02, 0.08, 0.14, 0.16, 0.60] etc…\n",
    "\n",
    "However, most of the time these embeddings are learnt during the bigger training task that you are already doing."
   ]
  },
  {
   "cell_type": "code",
   "execution_count": null,
   "metadata": {},
   "outputs": [],
   "source": []
  }
 ],
 "metadata": {
  "kernelspec": {
   "display_name": "Python 3",
   "language": "python",
   "name": "python3"
  },
  "language_info": {
   "codemirror_mode": {
    "name": "ipython",
    "version": 3
   },
   "file_extension": ".py",
   "mimetype": "text/x-python",
   "name": "python",
   "nbconvert_exporter": "python",
   "pygments_lexer": "ipython3",
   "version": "3.7.3"
  }
 },
 "nbformat": 4,
 "nbformat_minor": 2
}
