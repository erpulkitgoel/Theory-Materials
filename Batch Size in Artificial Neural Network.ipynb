{
 "cells": [
  {
   "cell_type": "markdown",
   "metadata": {},
   "source": [
    "The Batch Size is the number of samples that will be passed through the neural network at one time"
   ]
  },
  {
   "cell_type": "markdown",
   "metadata": {},
   "source": [
    "\"Batch\" is a.k.a \"mini-batch\""
   ]
  },
  {
   "cell_type": "markdown",
   "metadata": {},
   "source": [
    "# Batch Size vs Epoch"
   ]
  },
  {
   "cell_type": "markdown",
   "metadata": {},
   "source": [
    "\n",
    "Lets say\n",
    "- 1000 images of dogs\n",
    "- Batch Size = 10 ( 10 images of dogs will be passed as group or batch or mini-batch at one time in network)\n",
    "- So in total we will have 100 batches of batch size 10 per Epoch.\n",
    "- Or we have one Epoch of 100 batch sequence\n"
   ]
  },
  {
   "cell_type": "markdown",
   "metadata": {},
   "source": [
    "# Larger Batch Size == Faster Learning or Training the network"
   ]
  },
  {
   "cell_type": "markdown",
   "metadata": {},
   "source": [
    "But LArger Batch size means we need more computational Power, So we need to get a trade off between Batch-Size and computational power of machine"
   ]
  },
  {
   "cell_type": "markdown",
   "metadata": {},
   "source": [
    "# Drop Outs in CNN Layers\n",
    "\n",
    "We intentionally drops out few neurons in the CNN Layers so as to avoid data being overfitting the trainin set.\n",
    "\n",
    "It restricsts the nodes from participating in prediction and predicts the data\n"
   ]
  },
  {
   "cell_type": "markdown",
   "metadata": {},
   "source": []
  },
  {
   "cell_type": "code",
   "execution_count": null,
   "metadata": {},
   "outputs": [],
   "source": []
  }
 ],
 "metadata": {
  "kernelspec": {
   "display_name": "Python 3",
   "language": "python",
   "name": "python3"
  },
  "language_info": {
   "codemirror_mode": {
    "name": "ipython",
    "version": 3
   },
   "file_extension": ".py",
   "mimetype": "text/x-python",
   "name": "python",
   "nbconvert_exporter": "python",
   "pygments_lexer": "ipython3",
   "version": "3.7.3"
  }
 },
 "nbformat": 4,
 "nbformat_minor": 2
}
